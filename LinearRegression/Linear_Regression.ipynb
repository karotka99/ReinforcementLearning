{
 "cells": [
  {
   "cell_type": "markdown",
   "metadata": {},
   "source": [
    "<center>\n",
    "<h1>Linear regression introduction</h1>\n",
    "<h2>\n",
    "Deep learning classes<br>\n",
    "</h2>\n",
    "<h3>\n",
    "This is a graded assignment<br>\n",
    "</h3>\n",
    "</center>"
   ]
  },
  {
   "cell_type": "markdown",
   "metadata": {},
   "source": [
    "### Basic information\n",
    "<ul>\n",
    "    <li>This task is build of:\n",
    "    <ul>\n",
    "        <li>Descriptions (in the Markdown cells)\n",
    "        <li>Already prepared fragments of code\n",
    "        <li>The placeholders for your code\n",
    "    </ul>\n",
    "    <li>Your code should be entered in the `Code` cells. The places are marked by <b># ENTER YOUR CODE HERE</b> note.\n",
    "    <li>Usually you should enter only a few lines of code. But if you think you need it, you may use as many lines and add as many new code cells as you wish.\n",
    "    <li>You should solve the assignment in the defined order. It is often impossible to solve the next task, if you did not sove the previous one.\n",
    "    <li>This assignment is graded. \n",
    "    <li>During the grading you may expect some questions. <b>Sending the code to the teacher is not sufficient for passing.</b>\n",
    "</ul>"
   ]
  },
  {
   "cell_type": "markdown",
   "metadata": {},
   "source": [
    "Here we import all the necessary libraries, and set some initial parameters."
   ]
  },
  {
   "cell_type": "code",
   "execution_count": 1,
   "metadata": {},
   "outputs": [],
   "source": [
    "# The line below downloads the helper from github repository. \n",
    "# Uncomment it, if you are opening the notebook in Google Colab directly from the GitHub\n",
    "\n",
    "#!wget https://raw.githubusercontent.com/PrzemekSekula/DeepLearningClasses1/master/LinearRegression/helper_linear_regression.py"
   ]
  },
  {
   "cell_type": "code",
   "execution_count": 2,
   "metadata": {},
   "outputs": [],
   "source": [
    "import numpy as np\n",
    "import matplotlib.pyplot as plt\n",
    "import helper_linear_regression as hlp\n",
    "\n",
    "%matplotlib inline"
   ]
  },
  {
   "cell_type": "markdown",
   "metadata": {},
   "source": [
    "The cell below is used for generating the data."
   ]
  },
  {
   "cell_type": "code",
   "execution_count": 3,
   "metadata": {},
   "outputs": [
    {
     "data": {
      "image/png": "[encoded data removed]",
      "text/plain": [
       "<Figure size 432x288 with 1 Axes>"
      ]
     },
     "metadata": {
      "needs_background": "light"
     },
     "output_type": "display_data"
    }
   ],
   "source": [
    "# The line below assures that the random function will return the same values every time\n",
    "np.random.seed(12)\n",
    "\n",
    "coefs = [50, 25, -1.25, 0.01]\n",
    "datalength = 80\n",
    "noise = 0.2\n",
    "\n",
    "x, y = hlp.getXY(coefs, datalength, noise)\n",
    "\n",
    "f = plt.figure()\n",
    "plt.scatter(x, y)\n",
    "plt.title('Your dataset')\n",
    "plt.xlabel('X (inputs)')\n",
    "plt.ylabel('Y (labels / targets)');\n",
    "plt.show()"
   ]
  },
  {
   "cell_type": "markdown",
   "metadata": {},
   "source": [
    "### Task 1\n",
    "Let's assume that your function is linear ($y = \\Theta_0 + \\Theta_1*x$). Try to select the $\\Theta_0$ i  $\\Theta_1$ manually in order to create your model. Use the code below for visualizing results.\n",
    "\n",
    "*Note: This task is not about machine learning. You should just select the parameters manually, in order to get a good intuition. The parateres should be \"quite good\", but they do not have to be perfect.* "
   ]
  },
  {
   "cell_type": "code",
   "execution_count": 4,
   "metadata": {},
   "outputs": [
    {
     "name": "stderr",
     "output_type": "stream",
     "text": [
      "C:\\Users\\Karolina\\uczenie ze wzmocnieniem\\lab5\\helper_linear_regression.py:20: UserWarning: color is redundantly defined by the 'color' keyword argument and the fmt string \"k--\" (-> color='k'). The keyword argument will take precedence.\n",
      "  plt.plot([x.min(), x.max()], [y_min, y_max], 'k--', lw=4, color='red')\n"
     ]
    },
    {
     "data": {
      "image/png": "[encoded data removed]",
      "text/plain": [
       "<Figure size 432x288 with 1 Axes>"
      ]
     },
     "metadata": {
      "needs_background": "light"
     },
     "output_type": "display_data"
    }
   ],
   "source": [
    "my_th0 = 352 # ENTER YOUR CODE HERE (tune this parameter)\n",
    "my_th1 = -19 # ENTER YOUR CODE HERE (tune this parameter)\n",
    "\n",
    "hlp.plot_fitting_lin(x, y, my_th0, my_th1);"
   ]
  },
  {
   "cell_type": "markdown",
   "metadata": {},
   "source": [
    "### Task 2  - Hypothesis\n",
    "Prepare the function, which can compute the progosed values $h(x)$ according to the formula:\n",
    "\n",
    "<center>\n",
    "$h(x)  = \\Theta_0 + \\Theta_1 * x$\n",
    "</center>\n",
    "\n",
    "Function arguments:\n",
    "<li>x - input data (vector)\n",
    "<li>th0 - $\\Theta_0$\n",
    "<li>th1 - $\\Theta_1$\n",
    "<br \\>\n",
    "Function returns:\n",
    "<li>h - vector of values computed with the formula above."
   ]
  },
  {
   "cell_type": "code",
   "execution_count": 5,
   "metadata": {},
   "outputs": [],
   "source": [
    "def compute_h(x, th0, th1):\n",
    "    x = np.asarray(x) # It removes problems with older version of libraries\n",
    "    \n",
    "    # ENTER YOUR CODE HERE\n",
    "\n",
    "    h = th0 + th1*x\n",
    "    \n",
    "    # END OF YOUR CODE\n",
    "    return h"
   ]
  },
  {
   "cell_type": "markdown",
   "metadata": {},
   "source": [
    "#### Task 2 - test code\n",
    "You may use the code below, to test your output. The correct results are:<br>\n",
    "[200 185 170 155 140 125 110  95  80  65]"
   ]
  },
  {
   "cell_type": "code",
   "execution_count": 6,
   "metadata": {},
   "outputs": [
    {
     "name": "stdout",
     "output_type": "stream",
     "text": [
      "Testing results:  [200 185 170 155 140 125 110  95  80  65]\n",
      "Your code seems to be OK!\n"
     ]
    }
   ],
   "source": [
    "hlp.testcomputeh(compute_h)"
   ]
  },
  {
   "cell_type": "markdown",
   "metadata": {},
   "source": [
    "### Task 3 - Cost function\n",
    "Prepare the function, which computes the cost, according to the formula:\n",
    "<br /><br />\n",
    "<center>\n",
    "$J = \\frac{1}{2m}\\sum_{i=1}^{m}{(y_i - h(x_i))}^2$\n",
    "</center>\n",
    "\n",
    "Where:\n",
    "\n",
    "<li>$J$ - cost\n",
    "<li>$y$ - real $y$ values\n",
    "<li>$y_{pred}$ - predicted $y$ values\n",
    "<li>$m$ - length of the $y$ vector (number of observations)\n",
    "\n",
    "Arguments:\n",
    "\n",
    "<li>y - vector with real y values\n",
    "<li>h - vector with predicted y values ($h(x)$)\n",
    "\n",
    "Function returns:\n",
    "\n",
    "<li> c - cost computed with the given formula.\n",
    "    \n",
    "    \n",
    "*Note: You may compute the mean value of the vector by using: np.mean() function.\n",
    "Example:*\n",
    "<code>\n",
    "X = [1, 2, 3]\n",
    "print (np.mean(X))\n",
    "2\n",
    "</code>"
   ]
  },
  {
   "cell_type": "code",
   "execution_count": 7,
   "metadata": {},
   "outputs": [],
   "source": [
    "def cost(y, ypred):\n",
    "    y = np.asarray(y) # It removes problems with older version of libraries\n",
    "    ypred = np.asarray(ypred) # It removes problems with older version of libraries\n",
    "    \n",
    "    #ENTER YOUR CODE HERE\n",
    "    \n",
    "    c = np.mean((y-ypred)**2)/2\n",
    "    \n",
    "    # END OF YOUR CODE\n",
    "    return c"
   ]
  },
  {
   "cell_type": "markdown",
   "metadata": {},
   "source": [
    "#### Task 4 - test code\n",
    "You may test your `cost` function with the code below. If everything is OK, the output will be:<br>\n",
    "**Your code seems to be OK!**"
   ]
  },
  {
   "cell_type": "code",
   "execution_count": 8,
   "metadata": {},
   "outputs": [
    {
     "name": "stdout",
     "output_type": "stream",
     "text": [
      "Your code seems to be OK!\n"
     ]
    }
   ],
   "source": [
    "hlp.testcost(cost)"
   ]
  },
  {
   "cell_type": "markdown",
   "metadata": {},
   "source": [
    "### Task 4 - Computing cost\n",
    "Using the parameters $\\Theta_0$ i $\\Theta_1$ selected in the task 1 compute and display the hypothesis and the cost value.\n",
    "\n",
    "*Note 1: Your parameters are stored in `my_th0` and `my_th1` variables.*<br>\n",
    "*Note 1: You may use your `compute_h` function for computing hypothesis, and `cost` function for computing cost*<br>\n"
   ]
  },
  {
   "cell_type": "code",
   "execution_count": 9,
   "metadata": {},
   "outputs": [
    {
     "name": "stdout",
     "output_type": "stream",
     "text": [
      "17106.68822406512\n"
     ]
    }
   ],
   "source": [
    "h = compute_h(x,my_th0,my_th1) # ENTER YOUR CODE HERE\n",
    "mycost = cost(y,h)  # ENTER YOUR CODE HERE\n",
    "print (mycost)"
   ]
  },
  {
   "cell_type": "markdown",
   "metadata": {},
   "source": [
    "### Task 5 - partial derivatives\n",
    "Prepare the function `compute_derivatives`, which returns the partial derivatives $\\frac{\\delta}{\\delta\\Theta_0}J(\\Theta_0, \\Theta_1)$ and $\\frac{\\delta}{\\delta\\Theta_0}J(\\Theta_0, \\Theta_1)$ where:\n",
    "<center>\n",
    "<br \\><br \\>\n",
    "$J(\\Theta_0, \\Theta_1) = \\frac{1}{2m}\\sum_{i=1}^{m}{(y_i - h_\\Theta(x_i))}^2= \\frac{1}{2m}\\sum_{i=1}^{m}{(y_i - (\\Theta_0 + \\Theta_1x_i))}^2$\n",
    "<br \\><br \\>\n",
    "$\\frac{\\delta}{\\delta\\Theta_0}J(\\Theta_0, \\Theta_1) = - \\frac{1}{m}\\sum_{i=1}^{m}{(y_i - h_\\Theta(x_i))}$\n",
    "<br \\><br \\>\n",
    "$\\frac{\\delta}{\\delta\\Theta_1}J(\\Theta_0, \\Theta_1) = - \\frac{1}{m}\\sum_{i=1}^{m}{(y_i - h_\\Theta(x_i))x_i}$\n",
    "<br \\><br \\>\n",
    "</center>\n",
    "\n",
    "Arguments:\n",
    "<li>x - input data vector\n",
    "<li>y - output data (labels) vector\n",
    "<li>th0 - $\\Theta_0$ parameter\n",
    "<li>th1 - $\\Theta_1$ parameter\n",
    "<br \\>\n",
    "\n",
    "Function returns:\n",
    "<li>dTh0 - partial derivative $\\frac{\\delta}{\\delta\\Theta_0}J(\\Theta_0, \\Theta_1)$\n",
    "<li>dTh1 - partial derivative $\\frac{\\delta}{\\delta\\Theta_1}J(\\Theta_0, \\Theta_1)$\n",
    "<br \\><br \\>"
   ]
  },
  {
   "cell_type": "code",
   "execution_count": 10,
   "metadata": {},
   "outputs": [],
   "source": [
    "def compute_derivatives(x, y, th0, th1):\n",
    "    x = np.asarray(x) # It removes problems with older version of libraries\n",
    "    y = np.asarray(y) # It removes problems with older version of libraries\n",
    "    \n",
    "    # ENTER YOUR CODE HERE\n",
    "    \n",
    "    dTh0 = -np.mean(y-(th0+th1*x))\n",
    "    dTh1 = -np.mean((y-(th0+th1*x))*x)\n",
    "    \n",
    "    #END OF YOUR CODE\n",
    "    return dTh0, dTh1"
   ]
  },
  {
   "cell_type": "markdown",
   "metadata": {},
   "source": [
    "#### Task 4 - test code\n",
    "You may test your `compute_derivative` function with the code below. If everything is OK, the output will be:<br>\n",
    "**dTh0 seems to be OK.**<br>\n",
    "**dTh1 seems to be OK.**<br>"
   ]
  },
  {
   "cell_type": "code",
   "execution_count": 11,
   "metadata": {},
   "outputs": [
    {
     "name": "stdout",
     "output_type": "stream",
     "text": [
      "dTh0 seems to be OK.\n",
      "dTh1 seems to be OK.\n"
     ]
    }
   ],
   "source": [
    "hlp.testcomputederivatives(compute_derivatives)"
   ]
  },
  {
   "cell_type": "markdown",
   "metadata": {},
   "source": [
    "### Task 6 - updating theta\n",
    "Prepare the `update_theta` function, which updates the values of $\\Theta$ parameters according to the formulas:\n",
    "<center>\n",
    "<br \\><br \\>\n",
    "$\\Theta_0 = \\Theta_0 - \\alpha * \\frac{\\delta}{\\delta\\Theta_0}J(\\Theta_0, \\Theta_1)$\n",
    "<br \\><br \\>\n",
    "$\\Theta_1 = \\Theta_1 - \\alpha * \\frac{\\delta}{\\delta\\Theta_1}J(\\Theta_0, \\Theta_1)$\n",
    "<br \\><br \\>\n",
    "<br \\><br \\>\n",
    "</center>\n",
    "\n",
    "Arguments:\n",
    "<li>th0 - $\\Theta_0$ parameter\n",
    "<li>th1 - $\\Theta_1$ parameter\n",
    "<li>del0 - Partial derivative $\\frac{\\delta}{\\delta\\Theta_0}J(\\Theta_0, \\Theta_1)$\n",
    "<li>del1 - Partial derivative $\\frac{\\delta}{\\delta\\Theta_1}J(\\Theta_0, \\Theta_1)$\n",
    "<li>learning_rate - the learning rate $\\alpha$ parameter\n",
    "<br \\><br \\>\n",
    "Function returns:\n",
    "<li>Updated value of $\\Theta_0$\n",
    "<li>Updated value of $\\Theta_1$\n"
   ]
  },
  {
   "cell_type": "code",
   "execution_count": 12,
   "metadata": {},
   "outputs": [],
   "source": [
    "def update_theta(th0, th1, del0, del1, learning_rate):\n",
    "\n",
    "    # ENTER YOUR CODE HERE\n",
    "    \n",
    "    th0 -= learning_rate*del0 \n",
    "    th1 -= learning_rate*del1\n",
    "    \n",
    "    # END OF YOUR CODE\n",
    "    return th0, th1"
   ]
  },
  {
   "cell_type": "markdown",
   "metadata": {},
   "source": [
    "#### Task 5 - test code\n",
    "You may test your `update_theta` function with the code below. If everything is OK, the output will be:<br>\n",
    "**theta0 seems to be OK.**<br>\n",
    "**theta1 seems to be OK.**<br>"
   ]
  },
  {
   "cell_type": "code",
   "execution_count": 13,
   "metadata": {},
   "outputs": [
    {
     "name": "stdout",
     "output_type": "stream",
     "text": [
      "theta0 seems to be OK.\n",
      "theta1 seems to be OK.\n"
     ]
    }
   ],
   "source": [
    "hlp.testupdatetheta(update_theta)"
   ]
  },
  {
   "cell_type": "markdown",
   "metadata": {},
   "source": [
    "### Task 7 - learning parameters\n",
    "Tune the learning parameters and run the code below. This code will perform entire machine learning, using the functions you prepared in previous tasks.<br>\n",
    "The parameters are as follows:\n",
    "<ul>\n",
    "    <li>learning_rate - $\\alpha$ - learning coefficient. The greater $\\alpha$ the larger change of $\\Theta$ values in each iteration.\n",
    "    <li>epochs - how many times we should repeat the iterations\n",
    "</ul>\n",
    "<br \\>\n",
    "Additional parameter:\n",
    "<ul>\n",
    "<li>display_every - how often should we display the $\\Theta$ and cost values. This parameter does not play any role in learning process, it is only for observations. The value <code> display_every = int(epochs / 20) </code> is reasonable, but you may change it if you wish.\n",
    "</ul>\n",
    "    \n",
    "    \n",
    "*Note: The results for this part may differ because they depend on your parameters. To pass you need to push your cost below 15000. The optimal results are:*<br>\n",
    "<li>$\\Theta_0$ = 352.40171716\n",
    "<li>$\\Theta_1$ = -17.49921637\n",
    "<li>$J(\\Theta_0, \\Theta_1)$ = 14725.144411377056\n",
    "    \n",
    "**WARNING: It is difficult to get the optimal parameters with this algorithm. If your cost $J(\\Theta_0, \\Theta_1)$ is below 14800 it means that you are ok. If your cost is below 14730 you are perfect :)**\n",
    "    \n",
    "    "
   ]
  },
  {
   "cell_type": "code",
   "execution_count": 14,
   "metadata": {},
   "outputs": [
    {
     "name": "stdout",
     "output_type": "stream",
     "text": [
      "Iteration 0, Theta 0: -0.32, Theta 1: -21.58, Cost: 151196.90\n",
      "Iteration 800, Theta 0: 61.91, Theta 1: -12.02, Cost: 25472.27\n",
      "Iteration 1600, Theta 0: 113.03, Theta 1: -12.98, Cost: 22022.84\n",
      "Iteration 2400, Theta 0: 155.15, Theta 1: -13.78, Cost: 19680.55\n",
      "Iteration 3200, Theta 0: 189.86, Theta 1: -14.43, Cost: 18090.05\n",
      "Iteration 4000, Theta 0: 218.46, Theta 1: -14.97, Cost: 17010.04\n",
      "Iteration 4800, Theta 0: 242.03, Theta 1: -15.42, Cost: 16276.68\n",
      "Iteration 5600, Theta 0: 261.45, Theta 1: -15.78, Cost: 15778.69\n",
      "Iteration 6400, Theta 0: 277.45, Theta 1: -16.08, Cost: 15440.54\n",
      "Iteration 7200, Theta 0: 290.64, Theta 1: -16.33, Cost: 15210.93\n",
      "Iteration 8000, Theta 0: 301.51, Theta 1: -16.54, Cost: 15055.01\n",
      "Iteration 8800, Theta 0: 310.46, Theta 1: -16.71, Cost: 14949.14\n",
      "Iteration 9600, Theta 0: 317.84, Theta 1: -16.85, Cost: 14877.24\n",
      "Iteration 10400, Theta 0: 323.92, Theta 1: -16.96, Cost: 14828.42\n",
      "Iteration 11200, Theta 0: 328.94, Theta 1: -17.06, Cost: 14795.28\n",
      "Iteration 12000, Theta 0: 333.06, Theta 1: -17.13, Cost: 14772.77\n",
      "Iteration 12800, Theta 0: 336.47, Theta 1: -17.20, Cost: 14757.48\n",
      "Iteration 13600, Theta 0: 339.27, Theta 1: -17.25, Cost: 14747.10\n",
      "Iteration 14400, Theta 0: 341.58, Theta 1: -17.30, Cost: 14740.05\n",
      "Iteration 15200, Theta 0: 343.49, Theta 1: -17.33, Cost: 14735.27\n",
      "Iteration 16000, Theta 0: 345.05, Theta 1: -17.36, Cost: 14732.02\n",
      "Iteration 16800, Theta 0: 346.35, Theta 1: -17.38, Cost: 14729.81\n",
      "Iteration 17600, Theta 0: 347.41, Theta 1: -17.41, Cost: 14728.31\n",
      "Iteration 18400, Theta 0: 348.29, Theta 1: -17.42, Cost: 14727.30\n",
      "Iteration 19200, Theta 0: 349.01, Theta 1: -17.44, Cost: 14726.61\n",
      "Iteration 20000, Theta 0: 349.61, Theta 1: -17.45, Cost: 14726.14\n",
      "Iteration 20800, Theta 0: 350.10, Theta 1: -17.46, Cost: 14725.82\n",
      "Iteration 21600, Theta 0: 350.51, Theta 1: -17.46, Cost: 14725.60\n",
      "Iteration 22400, Theta 0: 350.84, Theta 1: -17.47, Cost: 14725.46\n",
      "Iteration 23200, Theta 0: 351.11, Theta 1: -17.47, Cost: 14725.36\n",
      "Iteration 24000, Theta 0: 351.34, Theta 1: -17.48, Cost: 14725.29\n",
      "Iteration 24800, Theta 0: 351.53, Theta 1: -17.48, Cost: 14725.24\n",
      "Iteration 25600, Theta 0: 351.68, Theta 1: -17.49, Cost: 14725.21\n",
      "Iteration 26400, Theta 0: 351.81, Theta 1: -17.49, Cost: 14725.19\n",
      "Iteration 27200, Theta 0: 351.91, Theta 1: -17.49, Cost: 14725.17\n",
      "Iteration 28000, Theta 0: 352.00, Theta 1: -17.49, Cost: 14725.17\n",
      "Iteration 28800, Theta 0: 352.07, Theta 1: -17.49, Cost: 14725.16\n",
      "Iteration 29600, Theta 0: 352.13, Theta 1: -17.49, Cost: 14725.15\n",
      "Iteration 30400, Theta 0: 352.18, Theta 1: -17.49, Cost: 14725.15\n",
      "Iteration 31200, Theta 0: 352.22, Theta 1: -17.50, Cost: 14725.15\n",
      "Iteration 32000, Theta 0: 352.25, Theta 1: -17.50, Cost: 14725.15\n",
      "Iteration 32800, Theta 0: 352.28, Theta 1: -17.50, Cost: 14725.15\n",
      "Iteration 33600, Theta 0: 352.30, Theta 1: -17.50, Cost: 14725.15\n",
      "Iteration 34400, Theta 0: 352.32, Theta 1: -17.50, Cost: 14725.15\n",
      "Iteration 35200, Theta 0: 352.33, Theta 1: -17.50, Cost: 14725.15\n",
      "Iteration 36000, Theta 0: 352.34, Theta 1: -17.50, Cost: 14725.14\n",
      "Iteration 36800, Theta 0: 352.35, Theta 1: -17.50, Cost: 14725.14\n",
      "Iteration 37600, Theta 0: 352.36, Theta 1: -17.50, Cost: 14725.14\n",
      "Iteration 38400, Theta 0: 352.37, Theta 1: -17.50, Cost: 14725.14\n",
      "Iteration 39200, Theta 0: 352.37, Theta 1: -17.50, Cost: 14725.14\n",
      "Iteration 39999, Theta 0: 352.38, Theta 1: -17.50, Cost: 14725.14\n"
     ]
    },
    {
     "data": {
      "image/png": "[encoded data removed]",
      "text/plain": [
       "<Figure size 432x288 with 1 Axes>"
      ]
     },
     "metadata": {
      "needs_background": "light"
     },
     "output_type": "display_data"
    }
   ],
   "source": [
    "learning_rate = 0.00095 # ENTER YOUR CODE HERE (Tune this parameter) # 0.00096 ?!\n",
    "epochs = 40000 # ENTER YOUR CODE HERE (Tune this parameter)\n",
    "\n",
    "display_every = int(epochs / 50)\n",
    "\n",
    "th0 = 0 #The initial th0 value\n",
    "th1 = 0 #The initial th1 value\n",
    "\n",
    "cost_list = [] # we will use this list to plot the cost function chart\n",
    "iter_list = [] # we will use this list to plot the cost function chart\n",
    "\n",
    "for i in range(epochs):\n",
    "    #Learning process. With your functions the entire learning code is only 2 lines\n",
    "    del0, del1 = compute_derivatives(x, y, th0, th1)\n",
    "    th0, th1 = update_theta(th0, th1, del0, del1, learning_rate)\n",
    "    \n",
    "    #This code is used only for displaying results. You do not need to understand it\n",
    "    if ((i%display_every) == 0) | (i == epochs-1):\n",
    "        curr_cost = cost(y, compute_h(x, th0, th1))\n",
    "        cost_list.append(curr_cost)\n",
    "        iter_list.append(i)\n",
    "        print('Iteration {}, Theta 0: {:.2f}, Theta 1: {:.2f}, Cost: {:.2f}'\n",
    "              .format(i, th0, th1, curr_cost))\n",
    "\n",
    "        \n",
    "#This code is used only for displaying results. You do not need to understand it\n",
    "f = plt.figure()\n",
    "plt.plot(iter_list, cost_list)\n",
    "plt.title(\"Cost function\")\n",
    "plt.xlabel('Iteration')\n",
    "plt.ylabel('Cost');"
   ]
  },
  {
   "cell_type": "markdown",
   "metadata": {},
   "source": [
    "You may use the code below to present your results on the chart"
   ]
  },
  {
   "cell_type": "code",
   "execution_count": 15,
   "metadata": {},
   "outputs": [
    {
     "name": "stdout",
     "output_type": "stream",
     "text": [
      "\n",
      "Your results:\n",
      "h(x) = 352.38 + x*-17.50\n",
      "Cost = 14725.14\n"
     ]
    },
    {
     "data": {
      "image/png": "[encoded data removed]",
      "text/plain": [
       "<Figure size 432x288 with 1 Axes>"
      ]
     },
     "metadata": {
      "needs_background": "light"
     },
     "output_type": "display_data"
    }
   ],
   "source": [
    "print('\\nYour results:')\n",
    "print ('h(x) = {:.2f} + x*{:.2f}'.format(th0, th1))\n",
    "print('Cost = {:.2f}'.format(cost(y, compute_h(x, th0, th1))))\n",
    "\n",
    "hlp.plot_fitting_lin(x, y, th0, th1);"
   ]
  },
  {
   "cell_type": "markdown",
   "metadata": {},
   "source": [
    "### Question 1\n",
    "Compare the 'manual' results with the 'gradient descent' results using the code below. Which results are better:"
   ]
  },
  {
   "cell_type": "code",
   "execution_count": 16,
   "metadata": {},
   "outputs": [
    {
     "name": "stdout",
     "output_type": "stream",
     "text": [
      "The gradient descent results:\n",
      "h(x) = 352.38 + x*-17.50\n",
      "Cost = 14725.14\n",
      "\n",
      "The manual results:\n",
      "h(x) = 352.00 + x*-19.00\n",
      "Cost = 17106.69\n",
      "\n",
      "\n"
     ]
    }
   ],
   "source": [
    "print('The gradient descent results:')\n",
    "print ('h(x) = {:.2f} + x*{:.2f}'.format(th0, th1))\n",
    "print('Cost = {:.2f}'.format(cost(y, compute_h(x, th0, th1))))\n",
    "\n",
    "print('\\nThe manual results:')\n",
    "print ('h(x) = {:.2f} + x*{:.2f}'.format(my_th0, my_th1))\n",
    "print('Cost = {:.2f}'.format(cost(y, compute_h(x, my_th0, my_th1))))\n",
    "print('\\n')\n"
   ]
  },
  {
   "cell_type": "markdown",
   "metadata": {},
   "source": [
    "**ENTER YOUR ANSWER HERE:**\n",
    "\n"
   ]
  },
  {
   "cell_type": "code",
   "execution_count": 19,
   "metadata": {},
   "outputs": [
    {
     "data": {
      "text/plain": [
       "-2381.5437504152887"
      ]
     },
     "execution_count": 19,
     "metadata": {},
     "output_type": "execute_result"
    }
   ],
   "source": [
    "cost(y, compute_h(x, th0, th1))-cost(y, compute_h(x, my_th0, my_th1))"
   ]
  },
  {
   "cell_type": "code",
   "execution_count": null,
   "metadata": {},
   "outputs": [],
   "source": []
  }
 ],
 "metadata": {
  "kernelspec": {
   "display_name": "Python 3",
   "language": "python",
   "name": "python3"
  },
  "language_info": {
   "codemirror_mode": {
    "name": "ipython",
    "version": 3
   },
   "file_extension": ".py",
   "mimetype": "text/x-python",
   "name": "python",
   "nbconvert_exporter": "python",
   "pygments_lexer": "ipython3",
   "version": "3.8.3"
  }
 },
 "nbformat": 4,
 "nbformat_minor": 4
}
