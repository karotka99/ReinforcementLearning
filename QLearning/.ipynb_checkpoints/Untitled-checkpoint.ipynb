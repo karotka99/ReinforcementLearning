{
 "cells": [
  {
   "cell_type": "code",
   "execution_count": 1,
   "id": "634dcacd",
   "metadata": {},
   "outputs": [
    {
     "name": "stdout",
     "output_type": "stream",
     "text": [
      "Obtaining file:///C:/Users/DELL/ReinfocementLearningClasses/QLearning/gym-cliffwalking\n",
      "Requirement already satisfied: gym in c:\\users\\dell\\anaconda3\\lib\\site-packages (from gym-cliffwalking==0.1.0) (0.23.1)\n",
      "Requirement already satisfied: numpy in c:\\users\\dell\\anaconda3\\lib\\site-packages (from gym-cliffwalking==0.1.0) (1.20.3)\n",
      "Requirement already satisfied: importlib-metadata>=4.10.0 in c:\\users\\dell\\anaconda3\\lib\\site-packages (from gym->gym-cliffwalking==0.1.0) (4.11.3)\n",
      "Requirement already satisfied: gym-notices>=0.0.4 in c:\\users\\dell\\anaconda3\\lib\\site-packages (from gym->gym-cliffwalking==0.1.0) (0.0.6)\n",
      "Requirement already satisfied: cloudpickle>=1.2.0 in c:\\users\\dell\\anaconda3\\lib\\site-packages (from gym->gym-cliffwalking==0.1.0) (2.0.0)\n",
      "Requirement already satisfied: zipp>=0.5 in c:\\users\\dell\\anaconda3\\lib\\site-packages (from importlib-metadata>=4.10.0->gym->gym-cliffwalking==0.1.0) (3.6.0)\n",
      "Installing collected packages: gym-cliffwalking\n",
      "  Attempting uninstall: gym-cliffwalking\n",
      "    Found existing installation: gym-cliffwalking 0.1.0\n",
      "    Uninstalling gym-cliffwalking-0.1.0:\n",
      "      Successfully uninstalled gym-cliffwalking-0.1.0\n",
      "  Running setup.py develop for gym-cliffwalking\n",
      "Successfully installed gym-cliffwalking-0.1.0\n",
      "Note: you may need to restart the kernel to use updated packages.\n"
     ]
    }
   ],
   "source": [
    "pip install -e gym-cliffwalking"
   ]
  },
  {
   "cell_type": "code",
   "execution_count": 2,
   "id": "b398944e",
   "metadata": {},
   "outputs": [],
   "source": [
    "import gym\n",
    "import gym_cliffwalking\n",
    "import numpy as np"
   ]
  },
  {
   "cell_type": "code",
   "execution_count": 3,
   "id": "80061999",
   "metadata": {},
   "outputs": [],
   "source": [
    "env = gym.make('cliffwalking-v0')"
   ]
  },
  {
   "cell_type": "code",
   "execution_count": 4,
   "id": "92e3fe17",
   "metadata": {},
   "outputs": [
    {
     "data": {
      "text/plain": [
       "0"
      ]
     },
     "execution_count": 4,
     "metadata": {},
     "output_type": "execute_result"
    }
   ],
   "source": [
    "env.reset()"
   ]
  },
  {
   "cell_type": "code",
   "execution_count": 5,
   "id": "fe9ead40",
   "metadata": {},
   "outputs": [
    {
     "data": {
      "text/plain": [
       "(0, -1.0, False, {})"
      ]
     },
     "execution_count": 5,
     "metadata": {},
     "output_type": "execute_result"
    }
   ],
   "source": [
    "env.step(1)"
   ]
  },
  {
   "cell_type": "code",
   "execution_count": 6,
   "id": "bcf2535f",
   "metadata": {},
   "outputs": [
    {
     "data": {
      "text/plain": [
       "(0, -1.0, False, {})"
      ]
     },
     "execution_count": 6,
     "metadata": {},
     "output_type": "execute_result"
    }
   ],
   "source": [
    "env.step(1)"
   ]
  },
  {
   "cell_type": "code",
   "execution_count": 7,
   "id": "5fa3f9ea",
   "metadata": {},
   "outputs": [
    {
     "name": "stdout",
     "output_type": "stream",
     "text": [
      "Previous state: 0, Action: 3, Next state: 12\n",
      "Previous state: 12, Action: 0, Next state: 13\n",
      "Previous state: 13, Action: 0, Next state: 14\n",
      "Previous state: 14, Action: 0, Next state: 15\n",
      "Previous state: 15, Action: 0, Next state: 16\n",
      "Previous state: 16, Action: 0, Next state: 17\n",
      "Previous state: 17, Action: 0, Next state: 18\n",
      "Previous state: 18, Action: 0, Next state: 19\n",
      "Previous state: 19, Action: 0, Next state: 20\n",
      "Previous state: 20, Action: 0, Next state: 21\n",
      "Previous state: 21, Action: 0, Next state: 22\n",
      "Previous state: 22, Action: 0, Next state: 23\n",
      "Previous state: 23, Action: 1, Next state: 11\n"
     ]
    }
   ],
   "source": [
    "def egreedy_policy(q_values, state, epsilon):\n",
    "    # Get a random number from a uniform distribution between 0 and 1,\n",
    "    # if the number is lower than epsilon choose a random action\n",
    "    if np.random.random() < epsilon:\n",
    "        return np.random.choice(4)\n",
    "    # Else choose the action with the highest value\n",
    "    else:\n",
    "        return np.argmax(q_values[state])\n",
    "\n",
    "epsilon = 0.01\n",
    "num_states = 48\n",
    "num_actions = 4\n",
    "q_values = np.zeros((num_states, num_actions))\n",
    "alfa = 1\n",
    "gamma = 1\n",
    "\n",
    "# Iterate over 500 episodes\n",
    "for _ in range(10000):\n",
    "    state = env.reset()\n",
    "    done = False\n",
    "\n",
    "    # While episode is not over\n",
    "    while not done:\n",
    "        # Choose action        \n",
    "        action = egreedy_policy(q_values, state, epsilon)\n",
    "        # Do the action\n",
    "        next_state, reward, done, test = env.step(action)\n",
    "        # Update q_values\n",
    "        td_target = reward + np.max(q_values[next_state])\n",
    "        td_error = td_target - gamma * q_values[state][action]\n",
    "        q_values[state][action] += alfa * td_error\n",
    "        if _ == 9999:\n",
    "            print(f\"Previous state: {state}, Action: {action}, Next state: {next_state}\")\n",
    "        # Update state\n",
    "        state = next_state"
   ]
  },
  {
   "cell_type": "code",
   "execution_count": 12,
   "id": "4feef36c",
   "metadata": {},
   "outputs": [
    {
     "data": {
      "text/plain": [
       "[0, 11]"
      ]
     },
     "execution_count": 12,
     "metadata": {},
     "output_type": "execute_result"
    }
   ],
   "source": [
    "env.current_state"
   ]
  },
  {
   "cell_type": "code",
   "execution_count": 11,
   "id": "d5496703",
   "metadata": {},
   "outputs": [],
   "source": [
    "def egreedy_policy(q_values, state, epsilon):  \n",
    "    # Get a random number from a uniform distribution between 0 and 1,\n",
    "    # if the number is lower than epsilon choose a random action\n",
    "    if np.random.random() < epsilon:\n",
    "        return np.random.choice(4)\n",
    "    # Else choose the action with the highest value\n",
    "    else:\n",
    "        return np.argmax(q_values[state])\n",
    "\n",
    "epsilon = 0.01\n",
    "num_states = 48\n",
    "num_actions = 4\n",
    "q_values = np.zeros((num_states, num_actions))\n",
    "alfa = 1\n",
    "gamma = 1\n",
    "\n",
    "\n",
    "# Iterate over 500 episodes\n",
    "for _ in range(1000):\n",
    "    state = env.reset()    \n",
    "    done = False\n",
    "    # While episode is not over\n",
    "    while not done:\n",
    "        # Choose action\n",
    "\n",
    "        action = egreedy_policy(q_values, state, epsilon)\n",
    "        # Do the action\n",
    "        next_state, reward, done, test = env.step(action)\n",
    "        # Update q_values\n",
    "        predict = q_values[state, action]\n",
    " \n",
    "        expected_q = 0\n",
    "        q_max = np.max(q_values[next_state, :])\n",
    "        greedy_actions = 0\n",
    "        for i in range(num_actions):\n",
    "            if q_values[next_state][i] == q_max:\n",
    "                greedy_actions += 1\n",
    "     \n",
    "        non_greedy_action_probability = epsilon / num_actions\n",
    "        greedy_action_probability = ((1 - epsilon) / greedy_actions) + non_greedy_action_probability\n",
    " \n",
    "        for i in range(num_actions):\n",
    "            if q_values[next_state][i] == q_max:\n",
    "                expected_q += q_values[next_state][i] * greedy_action_probability\n",
    "            else:\n",
    "                expected_q += q_values[next_state][i] * non_greedy_action_probability\n",
    "        td_target = reward + expected_q\n",
    "        td_error = td_target - gamma * q_values[state][action]\n",
    "        q_values[state][action] += alfa * td_error\n",
    "        if _ == 99999:\n",
    "            print(f\"Previous state: {state}, Action: {action}, Next state: {next_state}\")\n",
    "        # Update state\n",
    "        state = next_state"
   ]
  },
  {
   "cell_type": "code",
   "execution_count": null,
   "id": "a09c5718",
   "metadata": {},
   "outputs": [],
   "source": []
  },
  {
   "cell_type": "code",
   "execution_count": null,
   "id": "68e9440b",
   "metadata": {},
   "outputs": [],
   "source": []
  }
 ],
 "metadata": {
  "kernelspec": {
   "display_name": "Python 3 (ipykernel)",
   "language": "python",
   "name": "python3"
  },
  "language_info": {
   "codemirror_mode": {
    "name": "ipython",
    "version": 3
   },
   "file_extension": ".py",
   "mimetype": "text/x-python",
   "name": "python",
   "nbconvert_exporter": "python",
   "pygments_lexer": "ipython3",
   "version": "3.9.7"
  }
 },
 "nbformat": 4,
 "nbformat_minor": 5
}
