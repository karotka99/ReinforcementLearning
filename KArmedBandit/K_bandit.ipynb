{
 "cells": [
  {
   "cell_type": "markdown",
   "metadata": {},
   "source": [
    "# K-armed bandit\n",
    "This notebook implements k-armed bandit and four agents:\n",
    "- Random agent\n",
    "- $\\epsilon$-greedy agent\n",
    "- Optimistic agent\n",
    "- Upper confidence bound agent\n",
    "\n",
    "The purpose of the notebook is to get you a good understanding of:\n",
    "- K-armed bandit problems\n",
    "- Exploration vs exploitation tradeoff\n",
    "- $\\epsilon$-greedy action selection method\n",
    "- Optimistic action selection method\n",
    "- Upper confidence bound action selection method\n",
    "\n",
    "## This is a graded assignment\n",
    "To pass the assinment, you are expected to:\n",
    "- perform all the code tasks, namely implement optimistic and ucb agents\n",
    "- understand the topics behind this code, that were covered in a lecture\n",
    "- present your code to the teacher and answer the questions\n",
    "\n",
    "### Related reading from the Reinforcement Learning book\n",
    "- Chapter 2-2.7 (Pages 25-36)\n"
   ]
  },
  {
   "cell_type": "code",
   "execution_count": 1,
   "metadata": {},
   "outputs": [],
   "source": [
    "import numpy as np\n",
    "import pandas as pd\n",
    "from tqdm import tqdm\n",
    "\n",
    "import matplotlib.pyplot as plt\n",
    "%matplotlib inline"
   ]
  },
  {
   "cell_type": "markdown",
   "metadata": {},
   "source": [
    "### Bandit class\n",
    "This class implements a k-armed bandit"
   ]
  },
  {
   "cell_type": "code",
   "execution_count": 2,
   "metadata": {},
   "outputs": [],
   "source": [
    "class Bandit:\n",
    "    def __init__(self, q_star, stddev = 2):  \n",
    "        \"\"\"\n",
    "            Arguments:\n",
    "                k      - number of arms\n",
    "                minq   - minimum value of q_star for each arm\n",
    "                maxq   - maximum value of q_star for each arm\n",
    "                stddev - standard deviation that randomize the values while action is executed\n",
    "        \"\"\"\n",
    "        self.stddev = stddev\n",
    "        self.q_star = q_star\n",
    "                \n",
    "    def execute(self, arm):\n",
    "        \"\"\"\n",
    "        Returns the state of the bandit (randomly seleted value for a given arm)\n",
    "        Arguments:\n",
    "            arm - number of arm to be pulled\n",
    "        \"\"\"\n",
    "        return self.q_star[arm] + np.random.normal(scale=self.stddev)\n",
    "    \n",
    "    \n",
    "    \n",
    "    "
   ]
  },
  {
   "cell_type": "markdown",
   "metadata": {},
   "source": [
    "Create a bandit object"
   ]
  },
  {
   "cell_type": "code",
   "execution_count": 3,
   "metadata": {},
   "outputs": [
    {
     "name": "stdout",
     "output_type": "stream",
     "text": [
      "[4, 5, 3, 3, 1, 2, 0, 1, 5, 1]\n",
      "0.6609024262826284\n",
      "3\n"
     ]
    }
   ],
   "source": [
    "bandit = Bandit([4, 5, 3, 3, 1, 2, 0, 1, 5, 1])\n",
    "print (bandit.q_star)\n",
    "print(bandit.execute(6))\n",
    "print(bandit.q_star[2])"
   ]
  },
  {
   "cell_type": "markdown",
   "metadata": {},
   "source": [
    "### Random agent\n",
    "Agent that acts randomly\n",
    "\n",
    "Parameters:\n",
    "- `q_est` - estimated $q_{\\star}$ values for each arm\n",
    "- `n` - how many times each arm was selected\n",
    "\n",
    "Methods:\n",
    "- `act(self, bandit)` - performs an action (selects an arm randomly) and updates coresponding $Q$ and $n$ values. $Q$ is updated according to the formula:\n",
    "\n",
    "$Q_{n+1} = Q{n} + \\frac{1}{n}(R_n-Q_n)$\n",
    "\n",
    "where:\n",
    "- $Q_{n}$ - current estimated $q_{\\star}$ value\n",
    "- $Q_{n+1}$ - new estimated $q_{\\star}$ value\n",
    "- $R_n$ - reward obtained for an action $n$\n",
    "- $n$ - number of actions (computed separately for each action type)"
   ]
  },
  {
   "cell_type": "code",
   "execution_count": 4,
   "metadata": {},
   "outputs": [],
   "source": [
    "class RandomAgent:\n",
    "    def __init__(self, bandit):\n",
    "        \"\"\"\n",
    "        Arguments:\n",
    "            bandit - bandit that the agent will operate on (used only to set initial values of q_est and n)\n",
    "        \"\"\"\n",
    "        self.q_est =  [0] * len(bandit.q_star)\n",
    "        self.n =  [0] * len(bandit.q_star)\n",
    "                \n",
    "    def act(self, bandit):\n",
    "        \"\"\"\n",
    "        Performs an action (selects an arm randomly) and updates corespondingn q_est and n values\n",
    "        Arguments:\n",
    "            bandit - bandit that the agent is operated on\n",
    "        Returns:\n",
    "            reward - reward from the bandit (a result of the performed action)\n",
    "        \"\"\"\n",
    "        arm = np.random.randint(len(self.q_est))\n",
    "        reward = bandit.execute(arm)\n",
    "        self.n[arm] += 1\n",
    "        \n",
    "        # Q_n+1 = Qn + (1 / n) * (R - Q_n)\n",
    "        self.q_est[arm] += (reward - self.q_est[arm]) / self.n[arm]\n",
    "        \n",
    "        return reward"
   ]
  },
  {
   "cell_type": "markdown",
   "metadata": {},
   "source": [
    "Let's run the agent and see how it works"
   ]
  },
  {
   "cell_type": "code",
   "execution_count": 5,
   "metadata": {},
   "outputs": [],
   "source": [
    "agent = RandomAgent(bandit)\n",
    "rewards = []\n",
    "for step in range (1000):\n",
    "    reward = agent.act(bandit)\n",
    "    rewards.append(reward)\n",
    "    \n",
    " "
   ]
  },
  {
   "cell_type": "code",
   "execution_count": 6,
   "metadata": {},
   "outputs": [
    {
     "data": {
      "image/png": "[encoded data removed]",
      "text/plain": [
       "<Figure size 432x288 with 1 Axes>"
      ]
     },
     "metadata": {
      "needs_background": "light"
     },
     "output_type": "display_data"
    }
   ],
   "source": [
    "def plot_rewards (rewards):\n",
    "    \"\"\"\n",
    "    Plots the rewards\n",
    "    \"\"\"\n",
    "    f = plt.figure()\n",
    "    plt.plot(rewards)\n",
    "    plt.xlabel('steps')\n",
    "    plt.ylabel('reward')\n",
    "    plt.show()\n",
    "    \n",
    "plot_rewards(rewards)"
   ]
  },
  {
   "cell_type": "code",
   "execution_count": 7,
   "metadata": {},
   "outputs": [
    {
     "data": {
      "text/html": [
       "<div>\n",
       "<style scoped>\n",
       "    .dataframe tbody tr th:only-of-type {\n",
       "        vertical-align: middle;\n",
       "    }\n",
       "\n",
       "    .dataframe tbody tr th {\n",
       "        vertical-align: top;\n",
       "    }\n",
       "\n",
       "    .dataframe thead th {\n",
       "        text-align: right;\n",
       "    }\n",
       "</style>\n",
       "<table border=\"1\" class=\"dataframe\">\n",
       "  <thead>\n",
       "    <tr style=\"text-align: right;\">\n",
       "      <th></th>\n",
       "      <th>q_star</th>\n",
       "      <th>q_est</th>\n",
       "      <th>n</th>\n",
       "    </tr>\n",
       "  </thead>\n",
       "  <tbody>\n",
       "    <tr>\n",
       "      <th>0</th>\n",
       "      <td>4</td>\n",
       "      <td>3.753568</td>\n",
       "      <td>97</td>\n",
       "    </tr>\n",
       "    <tr>\n",
       "      <th>1</th>\n",
       "      <td>5</td>\n",
       "      <td>4.916629</td>\n",
       "      <td>125</td>\n",
       "    </tr>\n",
       "    <tr>\n",
       "      <th>2</th>\n",
       "      <td>3</td>\n",
       "      <td>2.851073</td>\n",
       "      <td>105</td>\n",
       "    </tr>\n",
       "    <tr>\n",
       "      <th>3</th>\n",
       "      <td>3</td>\n",
       "      <td>3.039148</td>\n",
       "      <td>95</td>\n",
       "    </tr>\n",
       "    <tr>\n",
       "      <th>4</th>\n",
       "      <td>1</td>\n",
       "      <td>1.175949</td>\n",
       "      <td>109</td>\n",
       "    </tr>\n",
       "    <tr>\n",
       "      <th>5</th>\n",
       "      <td>2</td>\n",
       "      <td>1.952775</td>\n",
       "      <td>103</td>\n",
       "    </tr>\n",
       "    <tr>\n",
       "      <th>6</th>\n",
       "      <td>0</td>\n",
       "      <td>0.350506</td>\n",
       "      <td>91</td>\n",
       "    </tr>\n",
       "    <tr>\n",
       "      <th>7</th>\n",
       "      <td>1</td>\n",
       "      <td>0.953712</td>\n",
       "      <td>101</td>\n",
       "    </tr>\n",
       "    <tr>\n",
       "      <th>8</th>\n",
       "      <td>5</td>\n",
       "      <td>5.073506</td>\n",
       "      <td>87</td>\n",
       "    </tr>\n",
       "    <tr>\n",
       "      <th>9</th>\n",
       "      <td>1</td>\n",
       "      <td>0.759672</td>\n",
       "      <td>87</td>\n",
       "    </tr>\n",
       "  </tbody>\n",
       "</table>\n",
       "</div>"
      ],
      "text/plain": [
       "   q_star     q_est    n\n",
       "0       4  3.753568   97\n",
       "1       5  4.916629  125\n",
       "2       3  2.851073  105\n",
       "3       3  3.039148   95\n",
       "4       1  1.175949  109\n",
       "5       2  1.952775  103\n",
       "6       0  0.350506   91\n",
       "7       1  0.953712  101\n",
       "8       5  5.073506   87\n",
       "9       1  0.759672   87"
      ]
     },
     "execution_count": 7,
     "metadata": {},
     "output_type": "execute_result"
    }
   ],
   "source": [
    "\n",
    "def display_agent(agent, bandit):\n",
    "    \"\"\"\n",
    "    Displays the agent data, namely:\n",
    "    q_star - real expected rewards from the bandit\n",
    "    q_est  - expected rewards extimated by the agent\n",
    "    n      - how many times the agent selected this particular arm\n",
    "    \"\"\"\n",
    "    df = pd.DataFrame()\n",
    "    df['q_star'] = bandit.q_star\n",
    "    df['q_est'] = agent.q_est\n",
    "    df['n'] = agent.n\n",
    "    return df\n",
    "\n",
    "display_agent(agent, bandit)"
   ]
  },
  {
   "cell_type": "markdown",
   "metadata": {},
   "source": [
    "## $\\epsilon$-greedy Agent"
   ]
  },
  {
   "cell_type": "code",
   "execution_count": 40,
   "metadata": {},
   "outputs": [],
   "source": [
    "class EpsilonGreedyAgent:\n",
    "    def __init__(self, bandit, epsilon = 0.1):\n",
    "        \"\"\"\n",
    "        Arguments:\n",
    "            bandit - bandit that the agent will operate on (used only to set initial values of q_est and n)\n",
    "            epsilon - exploration parameter \n",
    "        \"\"\"        \n",
    "        self.q_est = [0] * len(bandit.q_star)\n",
    "        self.n =  [0] * len(bandit.q_star)\n",
    "        self.epsilon = epsilon\n",
    "        \n",
    "    def act(self, bandit):\n",
    "        \"\"\"\n",
    "        Performs an action (uses epsilon-greedy approach to select an arm)\n",
    "        and pdates corespondingn q_est and n values\n",
    "        Arguments:\n",
    "            bandit - bandit that the agent is operated on\n",
    "        Returns:\n",
    "            reward - reward from the bandit (a result of the performed action)\n",
    "        \"\"\"        \n",
    "        if np.random.random() > self.epsilon:\n",
    "            arm = np.argmax(self.q_est)\n",
    "        else:\n",
    "            arm = np.random.randint(len(self.q_est))\n",
    "        reward = bandit.execute(arm)\n",
    "        self.n[arm] += 1\n",
    "        \n",
    "        # Q_n+1 = Qn + (1 / n) * (R - Q_n)\n",
    "        self.q_est[arm] += (reward - self.q_est[arm]) / self.n[arm]\n",
    "        \n",
    "        return reward"
   ]
  },
  {
   "cell_type": "markdown",
   "metadata": {},
   "source": [
    "Let's train the agent n times (1000 steps each time) to see how it works"
   ]
  },
  {
   "cell_type": "code",
   "execution_count": 41,
   "metadata": {},
   "outputs": [
    {
     "name": "stderr",
     "output_type": "stream",
     "text": [
      "100%|██████████| 1000/1000 [00:22<00:00, 45.09it/s]"
     ]
    },
    {
     "name": "stdout",
     "output_type": "stream",
     "text": [
      "(1000,)\n"
     ]
    },
    {
     "name": "stderr",
     "output_type": "stream",
     "text": [
      "\n"
     ]
    }
   ],
   "source": [
    "total_rewards = []\n",
    "for loop in tqdm(range (1000)):\n",
    "    agent = EpsilonGreedyAgent(bandit)\n",
    "    rewards = []\n",
    "    for step in range (1000):\n",
    "        reward = agent.act(bandit)\n",
    "        rewards.append(reward)\n",
    "    \n",
    "    total_rewards.append(rewards)\n",
    "total_rewards = np.asarray(total_rewards)\n",
    "rewards = total_rewards.mean(axis=0)\n",
    "print (rewards.shape)"
   ]
  },
  {
   "cell_type": "code",
   "execution_count": 42,
   "metadata": {},
   "outputs": [
    {
     "data": {
      "image/png": "[encoded data removed]",
      "text/plain": [
       "<Figure size 432x288 with 1 Axes>"
      ]
     },
     "metadata": {
      "needs_background": "light"
     },
     "output_type": "display_data"
    },
    {
     "data": {
      "text/html": [
       "<div>\n",
       "<style scoped>\n",
       "    .dataframe tbody tr th:only-of-type {\n",
       "        vertical-align: middle;\n",
       "    }\n",
       "\n",
       "    .dataframe tbody tr th {\n",
       "        vertical-align: top;\n",
       "    }\n",
       "\n",
       "    .dataframe thead th {\n",
       "        text-align: right;\n",
       "    }\n",
       "</style>\n",
       "<table border=\"1\" class=\"dataframe\">\n",
       "  <thead>\n",
       "    <tr style=\"text-align: right;\">\n",
       "      <th></th>\n",
       "      <th>q_star</th>\n",
       "      <th>q_est</th>\n",
       "      <th>n</th>\n",
       "    </tr>\n",
       "  </thead>\n",
       "  <tbody>\n",
       "    <tr>\n",
       "      <th>0</th>\n",
       "      <td>4</td>\n",
       "      <td>3.948410</td>\n",
       "      <td>77</td>\n",
       "    </tr>\n",
       "    <tr>\n",
       "      <th>1</th>\n",
       "      <td>5</td>\n",
       "      <td>4.787912</td>\n",
       "      <td>11</td>\n",
       "    </tr>\n",
       "    <tr>\n",
       "      <th>2</th>\n",
       "      <td>3</td>\n",
       "      <td>3.417247</td>\n",
       "      <td>16</td>\n",
       "    </tr>\n",
       "    <tr>\n",
       "      <th>3</th>\n",
       "      <td>3</td>\n",
       "      <td>3.400311</td>\n",
       "      <td>10</td>\n",
       "    </tr>\n",
       "    <tr>\n",
       "      <th>4</th>\n",
       "      <td>1</td>\n",
       "      <td>0.617985</td>\n",
       "      <td>9</td>\n",
       "    </tr>\n",
       "    <tr>\n",
       "      <th>5</th>\n",
       "      <td>2</td>\n",
       "      <td>1.894447</td>\n",
       "      <td>8</td>\n",
       "    </tr>\n",
       "    <tr>\n",
       "      <th>6</th>\n",
       "      <td>0</td>\n",
       "      <td>0.352217</td>\n",
       "      <td>9</td>\n",
       "    </tr>\n",
       "    <tr>\n",
       "      <th>7</th>\n",
       "      <td>1</td>\n",
       "      <td>0.776601</td>\n",
       "      <td>7</td>\n",
       "    </tr>\n",
       "    <tr>\n",
       "      <th>8</th>\n",
       "      <td>5</td>\n",
       "      <td>5.000271</td>\n",
       "      <td>839</td>\n",
       "    </tr>\n",
       "    <tr>\n",
       "      <th>9</th>\n",
       "      <td>1</td>\n",
       "      <td>0.648760</td>\n",
       "      <td>14</td>\n",
       "    </tr>\n",
       "  </tbody>\n",
       "</table>\n",
       "</div>"
      ],
      "text/plain": [
       "   q_star     q_est    n\n",
       "0       4  3.948410   77\n",
       "1       5  4.787912   11\n",
       "2       3  3.417247   16\n",
       "3       3  3.400311   10\n",
       "4       1  0.617985    9\n",
       "5       2  1.894447    8\n",
       "6       0  0.352217    9\n",
       "7       1  0.776601    7\n",
       "8       5  5.000271  839\n",
       "9       1  0.648760   14"
      ]
     },
     "execution_count": 42,
     "metadata": {},
     "output_type": "execute_result"
    }
   ],
   "source": [
    "plot_rewards(rewards)\n",
    "display_agent(agent, bandit)"
   ]
  },
  {
   "cell_type": "markdown",
   "metadata": {},
   "source": [
    "Let's display how the $\\epsilon$-greedy agent works.\n",
    "\n",
    "*Note: We trained many agents, and the displayed reward is the average of the rewards obrained by all the agents. However, the dataframe contains only the data for the latest agent*"
   ]
  },
  {
   "cell_type": "markdown",
   "metadata": {},
   "source": [
    "We may save the rewards for future comparisons"
   ]
  },
  {
   "cell_type": "code",
   "execution_count": 28,
   "metadata": {},
   "outputs": [],
   "source": [
    "df_rewards = pd.DataFrame()\n",
    "df_rewards['eGreedy'] = rewards"
   ]
  },
  {
   "cell_type": "markdown",
   "metadata": {},
   "source": [
    "## Task 1  - Optimistic agent\n",
    "Please fill in the placeholders to implement the optimistic agent.\n",
    "Generally, you are suppose to prepate the `__init__` and `act` methods.\n",
    "- In the `__init__` method you should set the initial values optimistically.\n",
    "- In the `act` method you should:\n",
    "    - Perform an action (select the arm greedily based on the estimated $q_{\\star}$ values) \n",
    "    - Update the corresponding estimated $q_{\\star}$ value"
   ]
  },
  {
   "cell_type": "code",
   "execution_count": 14,
   "metadata": {},
   "outputs": [],
   "source": [
    "class OptimisticAgent:\n",
    "    def __init__(self, bandit, initial_value = 10):\n",
    "        \"\"\"\n",
    "        Arguments:\n",
    "            bandit - bandit that the agent will operate on (used only to set initial values of q_est and n)\n",
    "            initial_value - initial value for estimated q_star. It should be high enough to make the algorithm work\n",
    "        \"\"\"\n",
    "        \n",
    "        self.q_est =[initial_value] * len(bandit.q_star)\n",
    "        self.n =  [1] * len(bandit.q_star)\n",
    "                \n",
    "    def act(self, bandit):\n",
    "        \"\"\"\n",
    "        Performs an action (selects an arm greedily based on the estimated q_star values ) \n",
    "        and updates corespondingn q_est and n values\n",
    "        Arguments:\n",
    "            bandit - bandit that the agent is operated on\n",
    "        Returns:\n",
    "            reward - reward from the bandit (a result of the performed action)\n",
    "        \"\"\"\n",
    "        \n",
    "        arm = np.argmax(self.q_est)\n",
    "        reward = bandit.execute(arm)\n",
    "        self.n[arm] += 1\n",
    "        \n",
    "        # Q_n+1 = Qn + (1 / n) * (R - Q_n)\n",
    "        self.q_est[arm] += (reward - self.q_est[arm]) / self.n[arm]\n",
    "        \n",
    "        return reward"
   ]
  },
  {
   "cell_type": "markdown",
   "metadata": {},
   "source": [
    "Agent traning"
   ]
  },
  {
   "cell_type": "code",
   "execution_count": 30,
   "metadata": {},
   "outputs": [
    {
     "name": "stderr",
     "output_type": "stream",
     "text": [
      "100%|██████████| 1000/1000 [00:21<00:00, 46.94it/s]\n"
     ]
    }
   ],
   "source": [
    "bandit = Bandit([4, 5, 3, 3, 1, 2, 0, 1, 5, 1])\n",
    "total_rewards = []\n",
    "for loop in tqdm(range (1000)):\n",
    "    agent = OptimisticAgent(bandit)\n",
    "    rewards = []\n",
    "    for step in range (1000):\n",
    "        reward = agent.act(bandit)\n",
    "        rewards.append(reward)\n",
    "    \n",
    "    total_rewards.append(rewards)\n",
    "total_rewards = np.asarray(total_rewards)\n",
    "rewards = total_rewards.mean(axis=0)\n"
   ]
  },
  {
   "cell_type": "markdown",
   "metadata": {},
   "source": [
    "Optimistic agent results visualization"
   ]
  },
  {
   "cell_type": "code",
   "execution_count": 31,
   "metadata": {},
   "outputs": [
    {
     "data": {
      "image/png": "[encoded data removed]",
      "text/plain": [
       "<Figure size 432x288 with 1 Axes>"
      ]
     },
     "metadata": {
      "needs_background": "light"
     },
     "output_type": "display_data"
    },
    {
     "data": {
      "text/html": [
       "<div>\n",
       "<style scoped>\n",
       "    .dataframe tbody tr th:only-of-type {\n",
       "        vertical-align: middle;\n",
       "    }\n",
       "\n",
       "    .dataframe tbody tr th {\n",
       "        vertical-align: top;\n",
       "    }\n",
       "\n",
       "    .dataframe thead th {\n",
       "        text-align: right;\n",
       "    }\n",
       "</style>\n",
       "<table border=\"1\" class=\"dataframe\">\n",
       "  <thead>\n",
       "    <tr style=\"text-align: right;\">\n",
       "      <th></th>\n",
       "      <th>q_star</th>\n",
       "      <th>q_est</th>\n",
       "      <th>n</th>\n",
       "    </tr>\n",
       "  </thead>\n",
       "  <tbody>\n",
       "    <tr>\n",
       "      <th>0</th>\n",
       "      <td>4</td>\n",
       "      <td>4.690597</td>\n",
       "      <td>9</td>\n",
       "    </tr>\n",
       "    <tr>\n",
       "      <th>1</th>\n",
       "      <td>5</td>\n",
       "      <td>5.135673</td>\n",
       "      <td>690</td>\n",
       "    </tr>\n",
       "    <tr>\n",
       "      <th>2</th>\n",
       "      <td>3</td>\n",
       "      <td>4.249581</td>\n",
       "      <td>4</td>\n",
       "    </tr>\n",
       "    <tr>\n",
       "      <th>3</th>\n",
       "      <td>3</td>\n",
       "      <td>4.523975</td>\n",
       "      <td>5</td>\n",
       "    </tr>\n",
       "    <tr>\n",
       "      <th>4</th>\n",
       "      <td>1</td>\n",
       "      <td>4.855710</td>\n",
       "      <td>4</td>\n",
       "    </tr>\n",
       "    <tr>\n",
       "      <th>5</th>\n",
       "      <td>2</td>\n",
       "      <td>4.870894</td>\n",
       "      <td>4</td>\n",
       "    </tr>\n",
       "    <tr>\n",
       "      <th>6</th>\n",
       "      <td>0</td>\n",
       "      <td>4.825415</td>\n",
       "      <td>2</td>\n",
       "    </tr>\n",
       "    <tr>\n",
       "      <th>7</th>\n",
       "      <td>1</td>\n",
       "      <td>4.620384</td>\n",
       "      <td>3</td>\n",
       "    </tr>\n",
       "    <tr>\n",
       "      <th>8</th>\n",
       "      <td>5</td>\n",
       "      <td>4.880406</td>\n",
       "      <td>286</td>\n",
       "    </tr>\n",
       "    <tr>\n",
       "      <th>9</th>\n",
       "      <td>1</td>\n",
       "      <td>3.791587</td>\n",
       "      <td>3</td>\n",
       "    </tr>\n",
       "  </tbody>\n",
       "</table>\n",
       "</div>"
      ],
      "text/plain": [
       "   q_star     q_est    n\n",
       "0       4  4.690597    9\n",
       "1       5  5.135673  690\n",
       "2       3  4.249581    4\n",
       "3       3  4.523975    5\n",
       "4       1  4.855710    4\n",
       "5       2  4.870894    4\n",
       "6       0  4.825415    2\n",
       "7       1  4.620384    3\n",
       "8       5  4.880406  286\n",
       "9       1  3.791587    3"
      ]
     },
     "execution_count": 31,
     "metadata": {},
     "output_type": "execute_result"
    }
   ],
   "source": [
    "df_rewards['optimistic'] = rewards # Let's store the results for comparison\n",
    "plot_rewards(rewards)\n",
    "display_agent(agent, bandit)"
   ]
  },
  {
   "cell_type": "markdown",
   "metadata": {},
   "source": [
    "## Task 2  - Upper Confidence Bound agent\n",
    "\n",
    "Please fill in the placeholders to implement the UCB agent.\n",
    "Generally, you are suppose to prepate the `act` method. In this method you are supposed to:\n",
    "- Compute the optimistic estimated $q_{\\star}$ values for each action, according to the formula:\n",
    "$Q_{optimistic}(a) = Q_{estimated}(a) + c \\sqrt{\\frac{ln(t)}{N_t(a)}}$ where:\n",
    "    - $a$ - selected action\n",
    "    - $Q_{estimated}(a)$ - estimated $q_{\\star}$ value for action $a$\n",
    "    - $c$ - explorarion parameter\n",
    "    - $t$ - number of all steps taken so far\n",
    "    - $N_t(a)$ - number of times when action $a$ was selected\n",
    "- Perform an action (select the arm greedily based on the estimated $Q_{optimistic}$ values) \n",
    "- Update the corresponding estimated $q_{\\star}$ value"
   ]
  },
  {
   "cell_type": "code",
   "execution_count": 17,
   "metadata": {},
   "outputs": [],
   "source": [
    "class UCBAgent:\n",
    "    def __init__(self, bandit, c = 3):\n",
    "        self.q_est =  [0] * len(bandit.q_star)\n",
    "        self.n = [1] * len(bandit.q_star)\n",
    "        self.c = c\n",
    "        \n",
    "    def act(self, bandit): \n",
    "        # Calculate Q optimistic here\n",
    "        q_opt=[0]*len(self.q_est)\n",
    "        for i in range(len(self.q_est)):\n",
    "             q_opt[i]= self.q_est[i]+self.c*np.sqrt(np.log(sum(self.n))/self.n[i])   \n",
    "        # Enter your code here (probably you need more than one line of code)\n",
    "        arm = np.argmax(q_opt)\n",
    "        reward = bandit.execute(arm)\n",
    "        self.n[arm] += 1\n",
    "        \n",
    "        # Q_n+1 = Qn + (1 / n) * (R - Q_n)\n",
    "        self.q_est[arm] += (reward - self.q_est[arm]) / self.n[arm]\n",
    "        \n",
    "        return reward"
   ]
  },
  {
   "cell_type": "code",
   "execution_count": 18,
   "metadata": {},
   "outputs": [],
   "source": [
    "agent = UCBAgent(bandit)\n",
    "rewards = []\n",
    "for i in range (1000):\n",
    "        reward = agent.act(bandit)\n",
    "        rewards.append(reward)"
   ]
  },
  {
   "cell_type": "markdown",
   "metadata": {},
   "source": [
    "Agent traning"
   ]
  },
  {
   "cell_type": "code",
   "execution_count": 32,
   "metadata": {},
   "outputs": [
    {
     "name": "stderr",
     "output_type": "stream",
     "text": [
      "100%|██████████| 1000/1000 [01:36<00:00, 10.40it/s]\n"
     ]
    },
    {
     "name": "stdout",
     "output_type": "stream",
     "text": [
      "(1000,)\n"
     ]
    }
   ],
   "source": [
    "total_rewards = []\n",
    "for loop in tqdm(range (1000)):\n",
    "    agent = UCBAgent(bandit)\n",
    "    rewards = []\n",
    "    for i in range (1000):\n",
    "        reward = agent.act(bandit)\n",
    "        rewards.append(reward)\n",
    "    \n",
    "    total_rewards.append(rewards)\n",
    "total_rewards = np.asarray(total_rewards)\n",
    "rewards = total_rewards.mean(axis=0)\n",
    "print (rewards.shape)"
   ]
  },
  {
   "cell_type": "code",
   "execution_count": 34,
   "metadata": {},
   "outputs": [
    {
     "data": {
      "image/png": "[encoded data removed]",
      "text/plain": [
       "<Figure size 432x288 with 1 Axes>"
      ]
     },
     "metadata": {
      "needs_background": "light"
     },
     "output_type": "display_data"
    },
    {
     "data": {
      "text/html": [
       "<div>\n",
       "<style scoped>\n",
       "    .dataframe tbody tr th:only-of-type {\n",
       "        vertical-align: middle;\n",
       "    }\n",
       "\n",
       "    .dataframe tbody tr th {\n",
       "        vertical-align: top;\n",
       "    }\n",
       "\n",
       "    .dataframe thead th {\n",
       "        text-align: right;\n",
       "    }\n",
       "</style>\n",
       "<table border=\"1\" class=\"dataframe\">\n",
       "  <thead>\n",
       "    <tr style=\"text-align: right;\">\n",
       "      <th></th>\n",
       "      <th>q_star</th>\n",
       "      <th>q_est</th>\n",
       "      <th>n</th>\n",
       "    </tr>\n",
       "  </thead>\n",
       "  <tbody>\n",
       "    <tr>\n",
       "      <th>0</th>\n",
       "      <td>4</td>\n",
       "      <td>4.256453</td>\n",
       "      <td>47</td>\n",
       "    </tr>\n",
       "    <tr>\n",
       "      <th>1</th>\n",
       "      <td>5</td>\n",
       "      <td>5.101232</td>\n",
       "      <td>566</td>\n",
       "    </tr>\n",
       "    <tr>\n",
       "      <th>2</th>\n",
       "      <td>3</td>\n",
       "      <td>1.608438</td>\n",
       "      <td>5</td>\n",
       "    </tr>\n",
       "    <tr>\n",
       "      <th>3</th>\n",
       "      <td>3</td>\n",
       "      <td>1.296824</td>\n",
       "      <td>5</td>\n",
       "    </tr>\n",
       "    <tr>\n",
       "      <th>4</th>\n",
       "      <td>1</td>\n",
       "      <td>0.636543</td>\n",
       "      <td>3</td>\n",
       "    </tr>\n",
       "    <tr>\n",
       "      <th>5</th>\n",
       "      <td>2</td>\n",
       "      <td>-0.256650</td>\n",
       "      <td>3</td>\n",
       "    </tr>\n",
       "    <tr>\n",
       "      <th>6</th>\n",
       "      <td>0</td>\n",
       "      <td>0.832451</td>\n",
       "      <td>3</td>\n",
       "    </tr>\n",
       "    <tr>\n",
       "      <th>7</th>\n",
       "      <td>1</td>\n",
       "      <td>0.647831</td>\n",
       "      <td>3</td>\n",
       "    </tr>\n",
       "    <tr>\n",
       "      <th>8</th>\n",
       "      <td>5</td>\n",
       "      <td>5.046880</td>\n",
       "      <td>371</td>\n",
       "    </tr>\n",
       "    <tr>\n",
       "      <th>9</th>\n",
       "      <td>1</td>\n",
       "      <td>1.012937</td>\n",
       "      <td>4</td>\n",
       "    </tr>\n",
       "  </tbody>\n",
       "</table>\n",
       "</div>"
      ],
      "text/plain": [
       "   q_star     q_est    n\n",
       "0       4  4.256453   47\n",
       "1       5  5.101232  566\n",
       "2       3  1.608438    5\n",
       "3       3  1.296824    5\n",
       "4       1  0.636543    3\n",
       "5       2 -0.256650    3\n",
       "6       0  0.832451    3\n",
       "7       1  0.647831    3\n",
       "8       5  5.046880  371\n",
       "9       1  1.012937    4"
      ]
     },
     "execution_count": 34,
     "metadata": {},
     "output_type": "execute_result"
    }
   ],
   "source": [
    "df_rewards['UCB'] = rewards # Let's store the results for comparison\n",
    "plot_rewards(rewards)\n",
    "display_agent(agent, bandit)"
   ]
  },
  {
   "cell_type": "markdown",
   "metadata": {},
   "source": [
    "## Task 3 - understanding the code\n",
    "\n",
    "See the results of all agents as well as the comparison below. Try to understand the results. To get the better understanding you may experiment with the code. For example, you may:\n",
    "- Modify the k-armed bandit by changeing the real $Q_{\\star}$ values and/or the standard deviation.\n",
    "- Change the $\\epsilon$ parameter in $\\epsilon$-greedy agent and see how it impacts the behaviour of the agent\n",
    "- Change the initial values for the optimistic agent and see how it impacts the behaviour of the agent\n",
    "- Change exploration parameter $c$ for the UCB agent and see how it impacts the behaviour of the agent"
   ]
  },
  {
   "cell_type": "code",
   "execution_count": 35,
   "metadata": {},
   "outputs": [
    {
     "data": {
      "text/plain": [
       "<AxesSubplot:>"
      ]
     },
     "execution_count": 35,
     "metadata": {},
     "output_type": "execute_result"
    },
    {
     "data": {
      "image/png": "[encoded data removed]",
      "text/plain": [
       "<Figure size 432x288 with 1 Axes>"
      ]
     },
     "metadata": {
      "needs_background": "light"
     },
     "output_type": "display_data"
    }
   ],
   "source": [
    "df_rewards.plot(colormap = 'brg', ylim=[3, 5.5])"
   ]
  },
  {
   "cell_type": "code",
   "execution_count": null,
   "metadata": {},
   "outputs": [],
   "source": []
  }
 ],
 "metadata": {
  "kernelspec": {
   "display_name": "Python 3",
   "language": "python",
   "name": "python3"
  },
  "language_info": {
   "codemirror_mode": {
    "name": "ipython",
    "version": 3
   },
   "file_extension": ".py",
   "mimetype": "text/x-python",
   "name": "python",
   "nbconvert_exporter": "python",
   "pygments_lexer": "ipython3",
   "version": "3.8.3"
  }
 },
 "nbformat": 4,
 "nbformat_minor": 4
}
